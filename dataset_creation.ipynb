{
 "cells": [
  {
   "cell_type": "code",
   "execution_count": 2,
   "metadata": {},
   "outputs": [],
   "source": [
    "import numpy as np\n",
    "import cv2"
   ]
  },
  {
   "cell_type": "code",
   "execution_count": 7,
   "metadata": {},
   "outputs": [],
   "source": [
    "import os\n",
    "import json\n",
    "\n",
    "def convert_annotations_to_txt(annotation_folder, output_folder):\n",
    "    # Create the output folder if it doesn't exist\n",
    "    if not os.path.exists(output_folder):\n",
    "        os.makedirs(output_folder)\n",
    "\n",
    "    # Iterate over all JSON files in the annotation folder\n",
    "    for json_file in os.listdir(annotation_folder):\n",
    "        if json_file.endswith('.json'):\n",
    "            # Construct the paths for input and output files\n",
    "            json_path = os.path.join(annotation_folder, json_file)\n",
    "            output_path = os.path.join(output_folder, os.path.splitext(json_file)[0] + '.txt')\n",
    "\n",
    "            # Convert JSON annotations to txt format\n",
    "            convert_to_txt(json_path, output_path)\n",
    "\n",
    "def convert_to_txt(json_file, output_file):\n",
    "    with open(json_file, 'r') as f:\n",
    "        data = json.load(f)\n",
    "\n",
    "    with open(output_file, 'w') as f:\n",
    "        for instance in data['instances']:\n",
    "            if instance['defected_module'] == 1:\n",
    "                corners = instance['corners']\n",
    "                x1, y1 = corners[0]['x'], corners[0]['y']\n",
    "                x2, y2 = corners[1]['x'], corners[1]['y']\n",
    "                x3, y3 = corners[2]['x'], corners[2]['y']\n",
    "                x4, y4 = corners[3]['x'], corners[3]['y']\n",
    "                label = 0\n",
    "                line = f\"{label} {x1} {y1} {x2} {y2} {x3} {y3} {x4} {y4} \\n\"\n",
    "                f.write(line)\n",
    "\n",
    "# Set paths for annotation folder and output folder\n",
    "annotation_folder = r'C:\\Users\\vrind\\Downloads\\segmentationnproject\\datasets\\Photovoltaic\\annotations'\n",
    "output_folder = r'C:\\Users\\vrind\\Downloads\\segmentationnproject\\datasets\\Photovoltaic\\labels'\n",
    "\n",
    "# Convert annotations to txt format\n",
    "convert_annotations_to_txt(annotation_folder, output_folder)"
   ]
  },
  {
   "cell_type": "code",
   "execution_count": null,
   "metadata": {},
   "outputs": [],
   "source": []
  }
 ],
 "metadata": {
  "kernelspec": {
   "display_name": "pytorchbook",
   "language": "python",
   "name": "python3"
  },
  "language_info": {
   "codemirror_mode": {
    "name": "ipython",
    "version": 3
   },
   "file_extension": ".py",
   "mimetype": "text/x-python",
   "name": "python",
   "nbconvert_exporter": "python",
   "pygments_lexer": "ipython3",
   "version": "3.9.7"
  }
 },
 "nbformat": 4,
 "nbformat_minor": 2
}
